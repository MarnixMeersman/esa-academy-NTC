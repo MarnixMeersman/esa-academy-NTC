{
 "cells": [
  {
   "cell_type": "markdown",
   "id": "826ac097",
   "metadata": {},
   "source": [
    "# IQ Data Analysis in Octave\n",
    "This notebook demonstrates how to process raw I/Q samples:\n",
    "- Load binary data from a `.dat` file\n",
    "- Compute and visualize the Power Spectral Density (PSD)\n",
    "- Inspect time-domain samples\n",
    "- Plot amplitude histograms\n",
    "- Save cleaned data for later use\n",
    "\n",
    "Before running any code, specify your sampling rate and file path in the cells below."
   ]
  },
  {
   "cell_type": "markdown",
   "id": "9a560c64",
   "metadata": {},
   "source": [
    "## 1. Set Sampling Frequency\n",
    "Replace the blank assignment with your sampling rate in Hz."
   ]
  },
  {
   "cell_type": "code",
   "execution_count": null,
   "id": "7197a2db",
   "metadata": {},
   "outputs": [],
   "source": [
    "% Sampling frequency (Hz)\n",
    "fs = ;  % ← Enter sampling frequency, e.g. 2.046e6"
   ]
  },
  {
   "cell_type": "markdown",
   "id": "eb85e347",
   "metadata": {},
   "source": [
    "## 2. Set Data File Path\n",
    "Provide the relative or absolute path to your I/Q `.dat` file."
   ]
  },
  {
   "cell_type": "code",
   "execution_count": null,
   "id": "974b0880",
   "metadata": {},
   "outputs": [],
   "source": [
    "% Path to I/Q data file\n",
    "data_file = '';  % ← Enter filename, e.g. 'test1.dat'"
   ]
  },
  {
   "cell_type": "markdown",
   "id": "b996f404",
   "metadata": {},
   "source": [
    "## 3. Load and Format I/Q Samples\n",
    "Read the binary file, handle interleaved I/Q channels, and remove initial transients."
   ]
  },
  {
   "cell_type": "code",
   "execution_count": null,
   "id": "5582af72",
   "metadata": {},
   "outputs": [],
   "source": [
    "% === Fixed Parameters ===\n",
    "fi = 0;                   % Intermediate frequency (Hz)\n",
    "IsComplex = true;         % True if data is I/Q\n",
    "Is8Bits = false;          % 8-bit integer format\n",
    "Is16Bits = false;         % 16-bit integer format\n",
    "Is32BitsFloat = true;     % 32-bit float format\n",
    "secondOfData = 1;         % Seconds of data to read\n",
    "fl1 = 1575.42e6;          % Center frequency (Hz) for labels\n",
    "% ========================\n",
    "\n",
    "% Read binary samples\n",
    "fid = fopen(data_file, 'r');\n",
    "if IsComplex\n",
    "    if Is16Bits\n",
    "        [raw, ~] = fread(fid, 2*secondOfData*fs, 'int16');\n",
    "    elseif Is8Bits\n",
    "        [raw, ~] = fread(fid, 2*secondOfData*fs, 'int8');\n",
    "    else\n",
    "        [raw, ~] = fread(fid, 2*secondOfData*fs, 'float32');\n",
    "    end\n",
    "    data = raw(1:2:end) + 1i*raw(2:2:end);\n",
    "else\n",
    "    if Is16Bits\n",
    "        [data, ~] = fread(fid, secondOfData*fs, 'int16');\n",
    "    elseif Is8Bits\n",
    "        [data, ~] = fread(fid, secondOfData*fs, 'int8');\n",
    "    else\n",
    "        [data, ~] = fread(fid, secondOfData*fs, 'float32');\n",
    "    end\n",
    "end\n",
    "fclose(fid);\n",
    "\n",
    "% Remove initial transient samples\n",
    "if length(data) > 1e6\n",
    "    data(1:1e6) = [];\n",
    "end"
   ]
  },
  {
   "cell_type": "markdown",
   "id": "1894c356",
   "metadata": {},
   "source": [
    "## 4. Power Spectral Density\n",
    "Use Welch's method to estimate PSD and plot it. Frequency axis is in MHz."
   ]
  },
  {
   "cell_type": "code",
   "execution_count": null,
   "id": "f1157cf1",
   "metadata": {},
   "outputs": [],
   "source": [
    "% Compute PSD\n",
    "[pw, f] = pwelch(data, [], [], [], fs);\n",
    "\n",
    "% Plot PSD\n",
    "figure;\n",
    "if IsComplex\n",
    "    plot((f + fl1 - fs/2)/1e6, 10*log10(fftshift(pw)));\n",
    "else\n",
    "    plot(f/1e6, 10*log10(fftshift(pw)));\n",
    "end\n",
    "grid on;\n",
    "xlabel('Frequency (MHz)');\n",
    "ylabel('PSD (dBW/Hz)');\n",
    "title('Power Spectral Density');"
   ]
  },
  {
   "cell_type": "markdown",
   "id": "1d3be14d",
   "metadata": {},
   "source": [
    "## 5. Time-Domain View\n",
    "Visualize the first 100,000 samples of the real and imaginary parts."
   ]
  },
  {
   "cell_type": "code",
   "execution_count": null,
   "id": "ae73e744",
   "metadata": {},
   "outputs": [],
   "source": [
    "% Real part\n",
    "figure;\n",
    "plot(real(data(1:1e5)), 'r.');\n",
    "xlabel('Sample');\n",
    "ylabel('Amplitude');\n",
    "title('Real Part');\n",
    "\n",
    "% Imaginary part\n",
    "figure;\n",
    "plot(imag(data(1:1e5)), 'b.');\n",
    "xlabel('Sample');\n",
    "ylabel('Amplitude');\n",
    "title('Imaginary Part');"
   ]
  },
  {
   "cell_type": "markdown",
   "id": "ee955b22",
   "metadata": {},
   "source": [
    "## 6. Histogram of Real Component\n",
    "Plot the amplitude distribution to check for clipping or quantization."
   ]
  },
  {
   "cell_type": "code",
   "execution_count": null,
   "id": "55f3141a",
   "metadata": {},
   "outputs": [],
   "source": [
    "figure;\n",
    "hist(real(data(1:1e5)), 18);\n",
    "xlabel('Amplitude');\n",
    "ylabel('Count');\n",
    "title('Histogram of Real Part');"
   ]
  },
  {
   "cell_type": "markdown",
   "id": "633c4981",
   "metadata": {},
   "source": [
    "## 7. Save Processed Data\n",
    "Store the cleaned complex samples for later analysis."
   ]
  },
  {
   "cell_type": "code",
   "execution_count": null,
   "id": "5da2fa89",
   "metadata": {},
   "outputs": [],
   "source": [
    "% Save to MAT-file\n",
    "save('IQ_samples.mat', 'data');\n",
    "disp('Data saved to IQ_samples.mat');"
   ]
  }
 ],
 "metadata": {
  "kernelspec": {
   "display_name": "Octave",
   "name": "octave"
  },
  "language_info": {
   "name": "octave"
  }
 },
 "nbformat": 4,
 "nbformat_minor": 5
}
