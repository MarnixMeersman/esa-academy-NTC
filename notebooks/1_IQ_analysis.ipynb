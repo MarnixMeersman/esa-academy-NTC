{
 "cells": [
  {
   "cell_type": "markdown",
   "id": "826ac097",
   "metadata": {},
   "source": [
    "# IQ Data Pre-Processing\n",
    "This notebook demonstrates how to process raw I/Q samples:\n",
    "- Load binary data from a `.dat` file\n",
    "- Compute and visualize the Power Spectral Density (PSD)\n",
    "- Inspect time-domain samples\n",
    "- Plot amplitude histograms\n",
    "- Save cleaned data for later use\n",
    "\n",
    "Before running any code, specify your sampling rate and file path in the cells below\n",
    "\n",
    "*Click regularly on the \"save to browser storage button\" (next to the download button) to not lose your progress.*"
   ]
  },
  {
   "cell_type": "markdown",
   "id": "9a560c64",
   "metadata": {},
   "source": [
    "## 1. Set Sampling Frequency\n",
    "Provide the sampling frequency fs in Hz."
   ]
  },
  {
   "cell_type": "code",
   "execution_count": null,
   "id": "7197a2db",
   "metadata": {
    "trusted": true,
    "vscode": {
     "languageId": "octave"
    }
   },
   "outputs": [],
   "source": [
    "% Sampling frequency (Hz)\n",
    "fs = _______;  % ← Enter sampling frequency, e.g. 1.000e6 for 1 MHz"
   ]
  },
  {
   "cell_type": "markdown",
   "id": "eb85e347",
   "metadata": {},
   "source": [
    "## 2. Set Data File Path\n",
    "Provide the relative or absolute path to your I/Q `.dat` file."
   ]
  },
  {
   "cell_type": "code",
   "execution_count": null,
   "id": "974b0880",
   "metadata": {
    "trusted": true,
    "vscode": {
     "languageId": "octave"
    }
   },
   "outputs": [],
   "source": [
    "% Path to I/Q data file\n",
    "data_file = '________.dat';  % ← Enter filename, e.g. 'IQ.dat'"
   ]
  },
  {
   "cell_type": "markdown",
   "id": "b996f404",
   "metadata": {},
   "source": [
    "## 3. Load and Format I/Q Samples\n",
    "Read the binary file, handle interleaved I/Q channels, and remove initial transients."
   ]
  },
  {
   "cell_type": "code",
   "execution_count": 3,
   "id": "5582af72",
   "metadata": {
    "trusted": true,
    "vscode": {
     "languageId": "octave"
    }
   },
   "outputs": [],
   "source": [
    "% === Fixed Parameters ===\n",
    "fi = 0;                   % Intermediate frequency (Hz)\n",
    "IsComplex = true;         % True if data is I/Q\n",
    "Is8Bits = false;          % 8-bit integer format\n",
    "Is16Bits = false;         % 16-bit integer format\n",
    "Is32BitsFloat = true;     % 32-bit float format\n",
    "secondOfData = 1;         % Seconds of data to read\n",
    "fl1 = 1575.42e6;          % Center frequency (Hz) for labels\n",
    "% ========================\n",
    "\n",
    "% Read binary samples\n",
    "[fid, errmsg] = fopen(data_file, 'rb');     % binary read\n",
    "\n",
    "if fid == -1\n",
    "    fprintf(2, '❌  Unable to open \"%s\": %s\\n', data_file, errmsg);\n",
    "    return              % Abort this cell early\n",
    "end\n",
    "if IsComplex\n",
    "    if Is16Bits\n",
    "        [raw, ~] = fread(fid, 2*secondOfData*fs, 'int16');\n",
    "    elseif Is8Bits\n",
    "        [raw, ~] = fread(fid, 2*secondOfData*fs, 'int8');\n",
    "    else\n",
    "        [raw, ~] = fread(fid, 2*secondOfData*fs, 'float32');\n",
    "    end\n",
    "    data = raw(1:2:end) + 1i*raw(2:2:end);\n",
    "else\n",
    "    if Is16Bits\n",
    "        [data, ~] = fread(fid, secondOfData*fs, 'int16');\n",
    "    elseif Is8Bits\n",
    "        [data, ~] = fread(fid, secondOfData*fs, 'int8');\n",
    "    else\n",
    "        [data, ~] = fread(fid, secondOfData*fs, 'float32');\n",
    "    end\n",
    "end\n",
    "fclose(fid);\n",
    "\n",
    "% Remove initial transient samples\n",
    "if length(data) > 1e6\n",
    "    data(1:1e6) = [];\n",
    "end"
   ]
  },
  {
   "cell_type": "markdown",
   "id": "1894c356",
   "metadata": {},
   "source": [
    "## 4. Power Spectral Density\n",
    "Use Welch's method to estimate PSD and plot it. Frequency axis is in MHz.\n",
    "https://en.wikipedia.org/wiki/Welch%27s_method "
   ]
  },
  {
   "cell_type": "code",
   "execution_count": null,
   "id": "f1157cf1",
   "metadata": {
    "trusted": true,
    "vscode": {
     "languageId": "octave"
    }
   },
   "outputs": [],
   "source": [
    "disp(\"➡️  [PSD]  Starting Welch PSD estimate …\");\n",
    "\n",
    "% ------------------------------------------------------------\n",
    "% 1. Make sure the Octave-Forge “signal” package is available\n",
    "% ------------------------------------------------------------\n",
    "has_signal = false;\n",
    "try\n",
    "    % does \"signal\" appear in the installed-package list?\n",
    "    pkgs = pkg(\"list\");\n",
    "    for k = 1 : numel(pkgs)\n",
    "        if strcmp(pkgs{k}.name, \"signal\")\n",
    "            has_signal = true;\n",
    "            break\n",
    "        end\n",
    "    end\n",
    "catch\n",
    "    % pkg() itself not found (rare)\n",
    "end\n",
    "\n",
    "if has_signal\n",
    "    try\n",
    "        pkg load signal\n",
    "        disp(\"   ✓  Loaded Octave-Forge package: signal\");\n",
    "    catch ME\n",
    "        has_signal = false;\n",
    "        fprintf(2,\"   ⚠️  Could not load 'signal' package (%s). Falling back to naive PSD.\\n\", ME.message);\n",
    "    end\n",
    "else\n",
    "    fprintf(2,\"   ⚠️  Package 'signal' not installed. Falling back to naive PSD.\\n\");\n",
    "end\n",
    "\n",
    "% ------------------------------------------------------------\n",
    "% 2. Compute PSD\n",
    "% ------------------------------------------------------------\n",
    "if has_signal\n",
    "    [pw, f] = pwelch(data, [], [], [], fs);    % Welch method\n",
    "    disp(\"   ✓  PSD computed with pwelch()\");\n",
    "else\n",
    "    % --- simple rectangular window periodogram as a fallback ---\n",
    "    Nfft  = 4096;\n",
    "    win   = hanning(Nfft);                     % a little windowing to reduce leakage\n",
    "    S     = fftshift( fft( data(1:Nfft) .* win.' , Nfft ) );\n",
    "    pw    = (abs(S).^2) / (fs * sum(win.^2));\n",
    "    f     = linspace(-fs/2, fs/2, Nfft);\n",
    "    disp(\"   ✓  PSD computed with naive FFT method\");\n",
    "end\n",
    "\n",
    "% ------------------------------------------------------------\n",
    "% 3. Plot\n",
    "% ------------------------------------------------------------\n",
    "figure;\n",
    "if IsComplex\n",
    "    plot((f + fl1 - fs/2)/1e6, 10*log10(pw), 'LineWidth', 1);\n",
    "else\n",
    "    plot(f/1e6,          10*log10(pw), 'LineWidth', 1);\n",
    "end\n",
    "grid on;\n",
    "xlabel('Frequency (MHz)');\n",
    "ylabel('PSD (dBW/Hz)');\n",
    "title('Power Spectral Density');\n",
    "\n",
    "disp(\"✅  [PSD]  Finished and plotted.\");"
   ]
  },
  {
   "cell_type": "markdown",
   "id": "1d3be14d",
   "metadata": {},
   "source": [
    "## 5. Time-Domain View\n",
    "Visualize the first 100,000 samples of the real and imaginary parts."
   ]
  },
  {
   "cell_type": "code",
   "execution_count": null,
   "id": "ae73e744",
   "metadata": {
    "scrolled": true,
    "trusted": true,
    "vscode": {
     "languageId": "octave"
    }
   },
   "outputs": [],
   "source": [
    "disp(\"➡️  [TD]  Plotting real & imaginary parts …\");\n",
    "\n",
    "% ------------------------------------------------------------\n",
    "% 1. Decide how many samples we can safely show\n",
    "% ------------------------------------------------------------\n",
    "if numel(data) < 1e5\n",
    "    nplot = numel(data);\n",
    "    fprintf(2, \"   ⚠️  Only %d samples available – plotting all of them.\\n\", nplot);\n",
    "else\n",
    "    nplot = 1e5;\n",
    "    fprintf(\"   ✓  Using first %d samples for the snapshot.\\n\", nplot);\n",
    "end\n",
    "\n",
    "% ------------------------------------------------------------\n",
    "% 2. Real component\n",
    "% ------------------------------------------------------------\n",
    "figure;\n",
    "plot(real(data(1:nplot)), 'r.');\n",
    "xlabel('Sample');  ylabel('Amplitude');\n",
    "title(sprintf('Real Part (first %d samples)', nplot));\n",
    "\n",
    "% ------------------------------------------------------------\n",
    "% 3. Imaginary component\n",
    "% ------------------------------------------------------------\n",
    "figure;\n",
    "plot(imag(data(1:nplot)), 'b.');\n",
    "xlabel('Sample');  ylabel('Amplitude');\n",
    "title(sprintf('Imaginary Part (first %d samples)', nplot));\n",
    "\n",
    "disp(\"✅  [TD]  Finished plotting time-domain snapshots.\");"
   ]
  },
  {
   "cell_type": "markdown",
   "id": "ee955b22",
   "metadata": {},
   "source": [
    "## 6. Histogram of Real Component\n",
    "Plot the amplitude distribution to check for clipping or quantization."
   ]
  },
  {
   "cell_type": "code",
   "execution_count": null,
   "id": "55f3141a",
   "metadata": {
    "trusted": true,
    "vscode": {
     "languageId": "octave"
    }
   },
   "outputs": [],
   "source": [
    "figure;\n",
    "hist(real(data(1:1e5)), 18);\n",
    "xlabel('Amplitude');\n",
    "ylabel('Count');\n",
    "title('Histogram of Real Part');"
   ]
  },
  {
   "cell_type": "markdown",
   "id": "633c4981",
   "metadata": {},
   "source": [
    "## 7. Save Processed Data\n",
    "Store the cleaned complex samples for later analysis."
   ]
  },
  {
   "cell_type": "code",
   "execution_count": null,
   "id": "5da2fa89",
   "metadata": {
    "trusted": true,
    "vscode": {
     "languageId": "octave"
    }
   },
   "outputs": [],
   "source": [
    "% Save to MAT-file\n",
    "save('IQ_samples.mat', 'data');\n",
    "disp('✅ Data saved to IQ_samples.mat');\n",
    "disp('✅ Check in the left sidebar, you should find the .mat file there');\n",
    "disp('⬅️ Proceed to the next notebook and click ');"
   ]
  }
 ],
 "metadata": {
  "kernelspec": {
   "display_name": "Octave (xoctave)",
   "language": "Octave",
   "name": "xoctave"
  },
  "language_info": {
   "codemirror_mode": "octave",
   "file_extension": ".m",
   "mimetype": "text/x-octave",
   "name": "Octave",
   "nbconvert_exporter": "",
   "pygments_lexer": "octave",
   "version": "8.4.0"
  }
 },
 "nbformat": 4,
 "nbformat_minor": 5
}
