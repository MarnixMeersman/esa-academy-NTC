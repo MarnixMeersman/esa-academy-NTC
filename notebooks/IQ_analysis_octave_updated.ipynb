{
 "cells": [
  {
   "cell_type": "markdown",
   "id": "5a86bc08",
   "metadata": {},
   "source": [
    "# IQ Data Analysis in Octave\n",
    "This Jupyter notebook walks you through reading raw I/Q data from a binary file (`test1.dat`), analyzing its power spectral density, visualizing samples in the time domain, plotting amplitude histograms, and saving the processed data for future use.\n",
    "\n",
    "Each section includes background information and instructions. Feel free to modify parameters as needed to match your acquisition setup.\n"
   ]
  },
  {
   "cell_type": "markdown",
   "id": "9abc219f",
   "metadata": {},
   "source": [
    "## 1. Initialization\n",
    "We start by clearing the workspace, closing existing figures, and resetting the command window. This ensures a clean environment before running any analysis."
   ]
  },
  {
   "cell_type": "code",
   "execution_count": null,
   "id": "be368cd0",
   "metadata": {},
   "outputs": [],
   "source": [
    "% Clear workspace and figures\n",
    "clear;\n",
    "close all;\n",
    "clc;"
   ]
  },
  {
   "cell_type": "markdown",
   "id": "b893affe",
   "metadata": {},
   "source": [
    "## 2. Specify Signal Characteristics\n",
    "Here you define the key parameters of your signal acquisition:\n",
    "- **Sampling frequency (`fs`):** How many samples per second were recorded.\n",
    "- **Intermediate frequency (`fi`):** Any IF shift applied in front-end.\n",
    "- **Data format flags:** Whether the data is complex I/Q and its bit-depth.\n",
    "- **Duration (`secondOfData`):** How many seconds of data to read.\n",
    "- **Center frequency (`fl1`):** The RF center frequency (e.g., 1575.42 MHz for GPS L1) used in labeling plots.\n",
    "\n",
    "You will be prompted to enter the sampling frequency at runtime. Press **Enter** to accept the default shown in brackets."
   ]
  },
  {
   "cell_type": "code",
   "execution_count": null,
   "id": "88fe99c5",
   "metadata": {},
   "outputs": [],
   "source": [
    "% Sampling and signal parameters\n",
    "default_fs = 2.046e6;  % Default sampling frequency in Hz\n",
    "prompt = sprintf('Enter sampling frequency in Hz [%g]: ', default_fs);\n",
    "user_input = input(prompt, 's');\n",
    "if isempty(user_input)\n",
    "    fs = default_fs;\n",
    "else\n",
    "    fs = str2double(user_input);\n",
    "end\n",
    "fi = 0e6;           % Intermediate frequency\n",
    "IsComplex = true;   % Flag: samples are I/Q\n",
    "Is8Bits = false;    % 8-bit integer samples\n",
    "Is16Bits = false;   % 16-bit integer samples\n",
    "Is32BitsFloat = true; % 32-bit float samples\n",
    "secondOfData = 1;   % Seconds of data to read\n",
    "fl1 = 1575.42e6;    % Center frequency for plot labels"
   ]
  },
  {
   "cell_type": "markdown",
   "id": "3fc8373f",
   "metadata": {},
   "source": [
    "## 3. Read I/Q Samples from File\n",
    "Open the binary file containing I/Q records and read the specified number of samples. Depending on your data format (8-bit, 16-bit, float), choose the correct `fread` and combine interleaved I and Q channels into complex-valued vectors."
   ]
  },
  {
   "cell_type": "code",
   "execution_count": null,
   "id": "e6e8630c",
   "metadata": {},
   "outputs": [],
   "source": [
    "% Open and read binary I/Q data\n",
    "fid = fopen('test1.dat', 'r');\n",
    "if IsComplex\n",
    "    if Is16Bits\n",
    "        [raw, cnt] = fread(fid, 2*secondOfData*fs, 'int16');\n",
    "    elseif Is8Bits\n",
    "        [raw, cnt] = fread(fid, 2*secondOfData*fs, 'int8');\n",
    "    elseif Is32BitsFloat\n",
    "        [raw, cnt] = fread(fid, 2*secondOfData*fs, 'float32');\n",
    "    end\n",
    "    data = raw(1:2:end) + 1i*raw(2:2:end);\n",
    "else\n",
    "    if Is16Bits\n",
    "        [data, cnt] = fread(fid, secondOfData*fs, 'int16');\n",
    "    elseif Is8Bits\n",
    "        [data, cnt] = fread(fid, secondOfData*fs, 'int8');\n",
    "    elseif Is32BitsFloat\n",
    "        [data, cnt] = fread(fid, secondOfData*fs, 'float32');\n",
    "    end\n",
    "end\n",
    "fclose(fid);\n",
    "% Remove the first 1e6 samples to avoid transients\n",
    "if length(data) > 1e6\n",
    "    data(1:1e6) = [];\n",
    "end"
   ]
  },
  {
   "cell_type": "markdown",
   "id": "3480b2d1",
   "metadata": {},
   "source": [
    "## 4. Power Spectral Density\n",
    "We compute the Power Spectral Density (PSD) using Welch's method (`pwelch`). This estimates the power distribution over frequency. We then shift and label the frequency axis relative to the center frequency for easy interpretation."
   ]
  },
  {
   "cell_type": "code",
   "execution_count": null,
   "id": "647f9129",
   "metadata": {},
   "outputs": [],
   "source": [
    "% Compute and plot PSD\n",
    "[pw, f] = pwelch(data, [], [], [], fs);\n",
    "figure;\n",
    "if IsComplex\n",
    "    plot((f + fl1 - fi - fs/2)/1e6, 10*log10(fftshift(pw)));\n",
    "else\n",
    "    plot((f + fl1 - fi)/1e6, 10*log10(fftshift(pw)));\n",
    "end\n",
    "grid on;\n",
    "axis tight;\n",
    "set(gca, 'FontSize', 16);\n",
    "xlabel('Frequency [MHz]');\n",
    "ylabel('PSD [dBW/Hz]');\n",
    "title('Power Spectral Density');"
   ]
  },
  {
   "cell_type": "markdown",
   "id": "5906e984",
   "metadata": {},
   "source": [
    "## 5. Time-Domain Visualization\n",
    "Plot the real and imaginary parts of the first 100,000 samples. This helps inspect amplitude variations and verify signal quality over time."
   ]
  },
  {
   "cell_type": "code",
   "execution_count": null,
   "id": "55f72df6",
   "metadata": {},
   "outputs": [],
   "source": [
    "% Real component\n",
    "figure;\n",
    "plot(real(data(1:1e5)), 'r.');\n",
    "set(gca, 'FontSize', 16);\n",
    "xlabel('Sample ID'); ylabel('Amplitude');\n",
    "title('Real Component');\n",
    "\n",
    "% Imaginary component\n",
    "figure;\n",
    "plot(imag(data(1:1e5)), 'b.');\n",
    "set(gca, 'FontSize', 16);\n",
    "xlabel('Sample ID'); ylabel('Amplitude');\n",
    "title('Imaginary Component');"
   ]
  },
  {
   "cell_type": "markdown",
   "id": "19d28c3d",
   "metadata": {},
   "source": [
    "## 6. Histogram of Real Component\n",
    "Generate an amplitude histogram of the real part for the first 100,000 samples. This shows the distribution of sample values and can reveal clipping or quantization effects."
   ]
  },
  {
   "cell_type": "code",
   "execution_count": null,
   "id": "d6fc9bfa",
   "metadata": {},
   "outputs": [],
   "source": [
    "% Histogram\n",
    "figure;\n",
    "hist(real(data(1:1e5)), 18);\n",
    "set(gca, 'FontSize', 16);\n",
    "xlabel('Amplitude'); ylabel('Occurrence');\n",
    "title('Histogram of Real Component');"
   ]
  },
  {
   "cell_type": "markdown",
   "id": "9173f925",
   "metadata": {},
   "source": [
    "## 7. Save Processed Data\n",
    "Save the cleaned and possibly truncated complex data vector to a MAT-file for future use."
   ]
  },
  {
   "cell_type": "code",
   "execution_count": null,
   "id": "20403e8f",
   "metadata": {},
   "outputs": [],
   "source": [
    "% Save to MAT-file\n",
    "save('IQ_samples.mat', 'data');\n",
    "disp('Saved IQ_samples.mat');"
   ]
  }
 ],
 "metadata": {
  "kernelspec": {
   "display_name": "Octave",
   "name": "octave"
  },
  "language_info": {
   "name": "octave"
  }
 },
 "nbformat": 4,
 "nbformat_minor": 5
}
