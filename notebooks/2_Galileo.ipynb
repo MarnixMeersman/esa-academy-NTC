{
 "metadata": {
  "kernelspec": {
   "name": "xoctave",
   "display_name": "Octave (xoctave)",
   "language": "Octave"
  },
  "language_info": {
   "codemirror_mode": "octave",
   "file_extension": ".m",
   "mimetype": "text/x-octave",
   "name": "Octave",
   "nbconvert_exporter": "",
   "pygments_lexer": "octave",
   "version": "8.4.0"
  }
 },
 "nbformat_minor": 5,
 "nbformat": 4,
 "cells": [
  {
   "id": "e8bc5f85",
   "cell_type": "markdown",
   "source": [
    "# Correlation Exercise – *Galileo E1‑C*\n",
    "\n",
    "This interactive notebook guides you through the **coarse‑acquisition** step used by every GNSS receiver.  You’ll fill in the missing pieces, run the code, and **acquire a real satellite you recorded**."
   ],
   "metadata": {}
  },
  {
   "id": "202a1ebc",
   "cell_type": "markdown",
   "source": "## How to work in this notebook\n1. **Read the short theory sections**  They recap what the code does. Also recall the presentation slides.\n2. **Open each *Task* cell (yellow bar on the left) and replace the `...` with real code or numbers.**  Run the cell *(Shift‑Enter)*.\n3. **Run the script cell that follows.**  If something is still missing the script will stop and tell you what.\n4. Move on to the next section.\n\n>👉 **Tip 1:** execute the notebook **top‑to‑bottom** the first time so that all variables are visible where the scripts expect them.\n>\n>👉 **Tip 2:** *Click regularly on the \"save to browser storage button\" (next to the download button) to not lose your progress.*",
   "metadata": {}
  },
  {
   "id": "30af7edb",
   "cell_type": "markdown",
   "source": "# 0. IQ Data and Pre-Processing\nThis section demonstrates how to transform raw **I/Q** recordings into a cleaned MATLAB `.mat` file that later acquisition steps can load.\n\n**You will:**\n1. Set the sampling frequency and file path  \n2. Read the binary file, format the complex samples  \n3. Inspect spectrum, time‑domain traces and amplitude histogram  \n4. Save the processed vector as **`IQ_samples.mat`**\n\nFollow the numbered code cells below and execute them in order (⇧ + ⏎).",
   "metadata": {}
  },
  {
   "id": "f7ab8dcb",
   "cell_type": "markdown",
   "source": "### 1.  Set Sampling Frequency",
   "metadata": {}
  },
  {
   "id": "1b7448ca",
   "cell_type": "code",
   "source": "% Sampling frequency (Hz)\nfs = 2.046e6;  % Enter sampling frequency, e.g. 1.000e6 for 1 MHz",
   "metadata": {
    "ExecuteTime": {
     "end_time": "2025-06-04T07:00:11.339388Z",
     "start_time": "2025-06-04T07:00:11.333985Z"
    },
    "trusted": true,
    "editable": true,
    "slideshow": {
     "slide_type": ""
    },
    "tags": []
   },
   "outputs": [],
   "execution_count": 1
  },
  {
   "id": "d38a60e9",
   "cell_type": "markdown",
   "source": "### 2.  Set Data File Path",
   "metadata": {}
  },
  {
   "id": "f2792667",
   "cell_type": "code",
   "source": "% Path to I/Q data file\ndata_file = 'IQ_samples_CA.dat';  % ← Enter filename, e.g. 'IQ.dat'",
   "metadata": {
    "trusted": true
   },
   "outputs": [],
   "execution_count": 2
  },
  {
   "id": "40dccf47",
   "cell_type": "markdown",
   "source": "### 3.  Load and Format I/Q Samples\nRead the binary file, handle interleaved I/Q channels, and remove initial transients.",
   "metadata": {}
  },
  {
   "id": "60f7e2e7",
   "cell_type": "code",
   "source": "% === Fixed Parameters ===\nfi = 0;                   % Intermediate frequency (Hz)\nIsComplex = true;         % True if data is I/Q\nIs8Bits = false;          % 8-bit integer format\nIs16Bits = false;         % 16-bit integer format\nIs32BitsFloat = true;     % 32-bit float format\nsecondOfData = 1;         % Seconds of data to read\nfl1 = 1575.42e6;          % Center frequency (Hz) for labels\n% ========================\n\n% Read binary samples\n[fid, errmsg] = fopen(data_file, 'rb');     % binary read\n\nif fid == -1\n    fprintf(2, '❌  Unable to open \"%s\": %s\\n', data_file, errmsg);\n    return              % Abort this cell early\nend\nif IsComplex\n    if Is16Bits\n        [raw, ~] = fread(fid, 2*secondOfData*fs, 'int16');\n    elseif Is8Bits\n        [raw, ~] = fread(fid, 2*secondOfData*fs, 'int8');\n    else\n        [raw, ~] = fread(fid, 2*secondOfData*fs, 'float32');\n    end\n    data = raw(1:2:end) + 1i*raw(2:2:end);\nelse\n    if Is16Bits\n        [data, ~] = fread(fid, secondOfData*fs, 'int16');\n    elseif Is8Bits\n        [data, ~] = fread(fid, secondOfData*fs, 'int8');\n    else\n        [data, ~] = fread(fid, secondOfData*fs, 'float32');\n    end\nend\nfclose(fid);\n\n% Remove initial transient samples\nif length(data) > 1e6\n    data(1:1e6) = [];\nend",
   "metadata": {
    "trusted": true
   },
   "outputs": [],
   "execution_count": 3
  },
  {
   "id": "c2f9b33b",
   "cell_type": "markdown",
   "source": "### 4.  Power Spectral Density\nUse Welch's method to estimate PSD and plot it. Frequency axis is in MHz.\nhttps://en.wikipedia.org/wiki/Welch%27s_method ",
   "metadata": {}
  },
  {
   "id": "d4fb4c09",
   "cell_type": "code",
   "source": "disp(\"➡️  [PSD]  Starting Welch PSD estimate …\");\n\n% ------------------------------------------------------------\n% 1. Make sure the Octave-Forge “signal” package is available\n% ------------------------------------------------------------\nhas_signal = false;\ntry\n    % does \"signal\" appear in the installed-package list?\n    pkgs = pkg(\"list\");\n    for k = 1 : numel(pkgs)\n        if strcmp(pkgs{k}.name, \"signal\")\n            has_signal = true;\n            break\n        end\n    end\ncatch\n    % pkg() itself not found (rare)\nend\n\nif has_signal\n    try\n        pkg load signal\n        disp(\"   ✓  Loaded Octave-Forge package: signal\");\n    catch ME\n        has_signal = false;\n        fprintf(2,\"   ⚠️  Could not load 'signal' package (%s). Falling back to naive PSD.\\n\", ME.message);\n    end\nelse\n    fprintf(2,\"   ⚠️  Package 'signal' not installed. Falling back to naive PSD.\\n\");\nend\n\n% ------------------------------------------------------------\n% 2. Compute PSD\n% ------------------------------------------------------------\nif has_signal\n    [pw, f] = pwelch(data, [], [], [], fs);    % Welch method\n    disp(\"   ✓  PSD computed with pwelch()\");\nelse\n    % --- simple rectangular window periodogram as a fallback ---\n    Nfft  = 4096;\n    win   = hanning(Nfft);                     % a little windowing to reduce leakage\n    S     = fftshift( fft( data(1:Nfft) .* win.' , Nfft ) );\n    pw    = (abs(S).^2) / (fs * sum(win.^2));\n    f     = linspace(-fs/2, fs/2, Nfft);\n    disp(\"   ✓  PSD computed with naive FFT method\");\nend\n\n% ------------------------------------------------------------\n% 3. Plot\n% ------------------------------------------------------------\nfigure;\nif IsComplex\n    plot((f + fl1 - fs/2)/1e6, 10*log10(pw), 'LineWidth', 1);\nelse\n    plot(f/1e6,          10*log10(pw), 'LineWidth', 1);\nend\ngrid on;\nxlabel('Frequency (MHz)');\nylabel('PSD (dBW/Hz)');\ntitle('Power Spectral Density');\n\ndisp(\"✅  [PSD]  Finished and plotted.\");\n",
   "metadata": {
    "trusted": true,
    "scrolled": true
   },
   "outputs": [
    {
     "name": "stdout",
     "output_type": "stream",
     "text": "➡️  [PSD]  Starting Welch PSD estimate …\n   ✓  Loaded Octave-Forge package: signal\n   ✓  PSD computed with pwelch()\n"
    },
    {
     "output_type": "display_data",
     "data": {
      "image/png": "[encoded data removed]"
     },
     "metadata": {
      "image/png": {
       "height": 420,
       "width": 560
      }
     }
    },
    {
     "name": "stdout",
     "output_type": "stream",
     "text": "✅  [PSD]  Finished and plotted.\n"
    }
   ],
   "execution_count": 4
  },
  {
   "id": "ec699a28",
   "cell_type": "markdown",
   "source": "### 5.  Time‑Domain View\nVisualize the first 100,000 samples of the real and imaginary parts.",
   "metadata": {}
  },
  {
   "id": "b2426b22",
   "cell_type": "code",
   "source": "disp(\"➡️  [TD]  Plotting real & imaginary parts …\");\n\n% ------------------------------------------------------------\n% 1. Decide how many samples we can safely show\n% ------------------------------------------------------------\nif numel(data) < 1e5\n    nplot = numel(data);\n    fprintf(2, \"   ⚠️  Only %d samples available – plotting all of them.\\n\", nplot);\nelse\n    nplot = 1e5;\n    fprintf(\"   ✓  Using first %d samples for the snapshot.\\n\", nplot);\nend\n\n% ------------------------------------------------------------\n% 2. Real component\n% ------------------------------------------------------------\nfigure;\nplot(real(data(1:nplot)), 'r.');\nxlabel('Sample');  ylabel('Amplitude');\ntitle(sprintf('Real Part (first %d samples)', nplot));\n\n% ------------------------------------------------------------\n% 3. Imaginary component\n% ------------------------------------------------------------\nfigure;\nplot(imag(data(1:nplot)), 'b.');\nxlabel('Sample');  ylabel('Amplitude');\ntitle(sprintf('Imaginary Part (first %d samples)', nplot));\n\ndisp(\"✅  [TD]  Finished plotting time-domain snapshots.\");\n",
   "metadata": {
    "trusted": true
   },
   "outputs": [
    {
     "name": "stdout",
     "output_type": "stream",
     "text": "➡️  [TD]  Plotting real & imaginary parts …\n   ✓  Using first 100000 samples for the snapshot.\n"
    },
    {
     "output_type": "display_data",
     "data": {
      "image/png": "[encoded data removed]"
     },
     "metadata": {
      "image/png": {
       "height": 420,
       "width": 560
      }
     }
    },
    {
     "output_type": "display_data",
     "data": {
      "image/png": "[encoded data removed]"
     },
     "metadata": {
      "image/png": {
       "height": 420,
       "width": 560
      }
     }
    },
    {
     "name": "stdout",
     "output_type": "stream",
     "text": "✅  [TD]  Finished plotting time-domain snapshots.\n"
    }
   ],
   "execution_count": 5
  },
  {
   "id": "a5722a6b",
   "cell_type": "markdown",
   "source": "### 6. Histogram of Real Component\nPlot the amplitude distribution to check for clipping or quantization.",
   "metadata": {}
  },
  {
   "id": "b9d1cc16",
   "cell_type": "code",
   "source": "figure;\nhist(real(data(1:1e5)), 18);\nxlabel('Amplitude');\nylabel('Count');\ntitle('Histogram of Real Part');",
   "metadata": {
    "trusted": true
   },
   "outputs": [
    {
     "output_type": "display_data",
     "data": {
      "image/png": "[encoded data removed]"
     },
     "metadata": {
      "image/png": {
       "height": 420,
       "width": 560
      }
     }
    }
   ],
   "execution_count": 6
  },
  {
   "id": "8d5367e1",
   "cell_type": "markdown",
   "source": "### 7.  Save Processed Data",
   "metadata": {}
  },
  {
   "id": "4e52c05e",
   "cell_type": "code",
   "source": "% Save to MAT-file\nsave('IQ_samples.mat', 'data');\ndisp('✅ Data saved to IQ_samples.mat');\ndisp('✅ Check in the left sidebar, you should find the .mat file there');",
   "metadata": {
    "trusted": true
   },
   "outputs": [
    {
     "name": "stdout",
     "output_type": "stream",
     "text": "✅ Data saved to IQ_samples.mat\n✅ Check in the left sidebar, you should find the .mat file there\n"
    }
   ],
   "execution_count": 7
  },
  {
   "id": "6670b19b",
   "cell_type": "markdown",
   "source": "# 1. Common Helper Functions\n\nBelow are the three MATLAB/Octave functions that every GNSS acquisition routine needs.\n\n* **`CodeAcquisition`** – builds a 2‑D delay/Doppler search space using an FFT‑based correlation technique.\n* **`NoiseVarianceEstimator`** – estimate of the noise floor .\n* **`InverseChiSquarePfa`** – finds the chi-square threshold (Th) such that its upper-tail probability equals the target false alarm probability (PfaT).\n\n🔍 ***Where you still need to work*** – The first function contains *TODO* markers so you can practise the maths behind the FFT acquisition.",
   "metadata": {}
  },
  {
   "id": "9db158f0-fa95-42be-aa44-965a36edf83a",
   "cell_type": "markdown",
   "source": [
    "### ✍️ **`CodeAcquisition`**  *Complete me!*\n",
    "This routine builds a 2-D “delay vs. Doppler” map by doing a matched-filter correlation in the frequency domain:\n",
    "\n",
    "1. **Normalize frequencies**\n",
    "   Convert the IF (`fi`) and Doppler offsets into fractions of the sampling rate so everything works in normalized units.\n",
    "\n",
    "2. **Prepare the replica filter**\n",
    "   Compute `F_rep = __________?` once – this is your matched filter for the local code sequence.\n",
    "\n",
    "3. **Loop over Doppler bins**\n",
    "   For each Doppler hypothesis, mix the incoming signal down by `exp(–2jπ·freq·t)`, FFT it, multiply by `F_rep` (i.e. correlate), then IFFT back to get correlation vs. code delay.\n",
    "\n",
    "4. **Form the detection metric**\n",
    "   Take the magnitude-squared of each complex correlation to fill out the final `sspace` matrix, which you can then search for peaks.\n",
    "5. **Your Task** : Fill in the missing line 26 to compute the frequency-domain matched filter for the code replica.\n",
    "    > *Hint: Use the FFT and complex conjugate of the replica*\n"
   ],
   "metadata": {}
  },
  {
   "id": "a1d017b9",
   "cell_type": "code",
   "source": [
    "function sspace = CodeAcquisition(signal, rep, Nc, Doppler_vec, fs, fi)\n",
    "% CodeAcquisition  Evaluate the search space for code acquisition using\n",
    "%                  a time-domain FFT technique\n",
    "%\n",
    "% Syntax:\n",
    "%   sspace = CodeAcquisition(signal, rep, Nc, Doppler_vec, fs, fi)\n",
    "%\n",
    "% Inputs:\n",
    "%   signal      [1×N]     Galileo/GPS input signal (with Doppler shift,\n",
    "%                         code delay, noise, etc.)\n",
    "%   rep         [1×Nc]    Local code replica\n",
    "%   Nc          integer   Length of the local code replica\n",
    "%   Doppler_vec [1×M]     Vector of Doppler offsets (Hz)\n",
    "%   fs          scalar    Sampling frequency (Hz)\n",
    "%   fi          scalar    Intermediate frequency (Hz)\n",
    "%\n",
    "% Output:\n",
    "%   sspace      [M×N]     Search-space matrix (correlation magnitudes)\n",
    "\n",
    "    % Normalize frequencies\n",
    "    fif           = fi / fs;\n",
    "    Doppler_norm  = Doppler_vec / fs;\n",
    "\n",
    "    % TODO\n",
    "    % Precompute FFT of the local replica\n",
    "    F_rep = conj(fft(rep));\n",
    "\n",
    "    % Time index vector\n",
    "    N = size(signal, 2);\n",
    "    t = 0:(N - 1);\n",
    "\n",
    "    % Allocate output\n",
    "    sspace = zeros(length(Doppler_norm), N);\n",
    "\n",
    "    % Loop over all Doppler bins\n",
    "    for i = 1:length(Doppler_norm)\n",
    "        fc    = fif + Doppler_norm(i);\n",
    "        % Mix the input down to baseband for this Doppler bin\n",
    "        IQ    = exp(-2j * pi * fc .* t) .* signal;\n",
    "        % FFT of the mixed signal\n",
    "        X     = fft(IQ);\n",
    "        % Frequency-domain correlation via multiplication\n",
    "        sspace(i, :) = ifft(X .* F_rep);\n",
    "    end\n",
    "\n",
    "    % Convert to real magnitude-squared values\n",
    "    sspace = real(sspace .* conj(sspace));\n",
    "end"
   ],
   "metadata": {
    "trusted": true
   },
   "outputs": [],
   "execution_count": 8
  },
  {
   "id": "30fb02da-d625-434d-a0ce-c29b22242cb1",
   "cell_type": "markdown",
   "source": [
    "### ▶ **`NoiseVarianceEstimator`**\n",
    "This function estimates the noise variance in `y` by:\n",
    "\n",
    "1. **Random code**\n",
    "   Create a bipolar (±1) sequence whose length matches the data duration (`clen`).\n",
    "\n",
    "2. **Upsample**\n",
    "   Stretch that code to the full sampling rate (`fs`) so it aligns with `y`.\n",
    "\n",
    "3. **Correlate**\n",
    "   Run one Doppler‐free correlation of `y` against this “noise” code via `CodeAcquisition`.\n",
    "\n",
    "4. **Decimate**\n",
    "   Pick every `fs/fc`-th correlator output to obtain roughly independent noise samples.\n",
    "\n",
    "5. **Compute variance**\n",
    "   Take the mean of those samples and divide by 2 → your noise‐variance estimate `sigma_est`."
   ],
   "metadata": {}
  },
  {
   "id": "339616cd",
   "cell_type": "code",
   "source": [
    "function sigma_est = NoiseVarianceEstimator( y, fs, fc )\n",
    "\n",
    "% Arguments:\n",
    "%   y :         [vector] contains the input samples\n",
    "%   fs:         [scalar] sampling frequency\n",
    "%   fc:         [scalar] code rate\n",
    "\n",
    "%\n",
    "% Returns:\n",
    "%   sigma_est:     [scalar] the estimated noise variance\n",
    "%%\n",
    "\n",
    "% First generate a fictitious code\n",
    "clen = round( length( y ) / fs * fc );\n",
    "code =  sign( rand( 1, clen ) - 0.5 );      % A bipolar random code usually has\n",
    "                                            % good correlation properties\n",
    "\n",
    "% Resample the code\n",
    "loc = reshape(repmat(code,fs/fc,1),1,fs/fc*size(code,2));\n",
    "\n",
    "% Now compute the correlators (for a single Doppler value is enough )\n",
    "correlators = CodeAcquisition( y, loc, 1, 0, fs, 0 );\n",
    "\n",
    "\n",
    "% Down-sample them to get uncorrelated values:\n",
    "step = round( fs / fc );\n",
    "correlators = correlators(1:step:end);\n",
    "\n",
    "% Finally the noise variance estimate\n",
    "sigma_est = mean( correlators ) / 2;\n"
   ],
   "metadata": {
    "trusted": true
   },
   "outputs": [],
   "execution_count": 9
  },
  {
   "id": "d2b0f020-7a72-4d54-a4d2-1c8807eacc49",
   "cell_type": "markdown",
   "source": [
    "### ▶ **`InverseChiSquarePfa`**\n",
    "This routine finds the χ²–distribution threshold `Th` for `K` degrees of freedom that yields a target false‐alarm rate `PfaT`."
   ],
   "metadata": {}
  },
  {
   "id": "56cfa56f",
   "cell_type": "code",
   "source": "function Th = InverseChiSquarePfa( K, PfaT )\n\nTh = -2*log( PfaT );\n\nNiter = 1000;\nPfa = 0;\nii = 1;\n\nfact = factorial( K - 1 );\n\nwhile abs( PfaT - Pfa ) > 1e-3 * PfaT,\n\n    Pfa = gammainc( Th / 2, K, 'upper' );\t\t\t\t\t% Compute the ccdf\n    pdf = exp( -Th / 2 ) .* ( Th / 2 ).^( K - 1 ) / fact;\t% Compute the pdf\n\n    Th = Th + ( Pfa - PfaT )/ pdf;\n\n    ii = ii + 1;\n    if ii > Niter,\n        break;\n    end\n    \nend",
   "metadata": {
    "trusted": true
   },
   "outputs": [],
   "execution_count": 10
  },
  {
   "id": "97fa7540",
   "cell_type": "markdown",
   "source": "# 2. Galileo E1‑C acquisition\n\n**Goal:** detect a Galileo E1‑C pilot code in an IQ recording.\n\nThe acquisition uses a **BOC(1,1)** modulated replica.\n\nThere are two steps for you:\n1. *Task&nbsp;G1* – enter the **signal parameters** (chip rate, sample rate, code period, integration time, IF).\n2. *Task&nbsp;G2* – build the **BOC sub‑carrier** used to modulate the replica.\n\nAfter completing both, run the `Acquire Galileo E1C` section immediately below to sweep delay/Doppler space.\n\n### ✍️ Task G1 - *Complete Galileo Signal Parameters* \nFill in the following Galileo signal parameters. When finished, run the section to initialize the variables.",
   "metadata": {}
  },
  {
   "id": "f4ef0fbd",
   "cell_type": "code",
   "source": "% % Chip rate  [Hz]\n% fc = ;\n\n% % Sample rate [Hz]\n% fs = ;\n\n% % Primary‑code period [ms]\n% T_primary_code = = ;\n\n% % Coherent integration time [s] (e.g. 0.004)\n% Tcoh = =;\n\n% % Intermediate frequency after down‑conversion [Hz]\n% fi = =;",
   "metadata": {
    "trusted": true
   },
   "outputs": [
    {
     "ename": "Execution exception",
     "evalue": "parse error near line 2 of file cell[11]\n\n  syntax error\n\n>>> fc = ;\n         ^",
     "traceback": [
      "Execution exception: parse error near line 2 of file cell[11]\n\n  syntax error\n\n>>> fc = ;\n         ^",
      ""
     ],
     "output_type": "error"
    }
   ],
   "execution_count": 11
  },
  {
   "id": "1a82ad5b-b55b-480b-8322-a4ce3eaa8ece",
   "cell_type": "markdown",
   "source": [
    "### ✍️ Task G2 - *Build the BOC sub-carrier* \n",
    "The objetive of this task is to produce a vector *boc* with +1/-1 values at the sampling rate *fs* corresponding to one chip (8 samples at 1.023 MHz → 8 samples). Then, tile it so it matches the PRN length used.\n",
    "\n",
    "**Remember:**\n",
    "\n",
    "- Galileo E1C is modulated as a BOC(1,1) therefore we need to generate for the replica signal\n",
    "\n",
    "- You need to overlay (multiply) every PRN code chip with the corresponding BOC spreading symbol"
   ],
   "metadata": {}
  },
  {
   "id": "0e807896-8b8f-452d-af70-386ce352b3ac",
   "cell_type": "markdown",
   "source": "**What you need to do:**\n\n**Step 1:** Generate a single BOC spreading symbol at the correct sample rate. \n\n> *Hint: considering the ratio of sample rate and chip rate you need to generate a BOC spreading symbol of 8 bits.*",
   "metadata": {}
  },
  {
   "id": "be67890e-0625-443e-980c-68968c16ffba",
   "cell_type": "code",
   "source": "BOC1_1_subcarrier = ;",
   "metadata": {
    "trusted": true
   },
   "outputs": [],
   "execution_count": null
  },
  {
   "id": "579cc7ba-5351-425b-881e-10ee55f755ff",
   "cell_type": "markdown",
   "source": "**Step 2:** Repeat the generated spreading symbol `BOC1_1_subcarrier` 4092 times to align with the number of chips in the replica that we are using.",
   "metadata": {}
  },
  {
   "id": "987d14fa-ca6b-463a-b6ee-ad8b66ee11b7",
   "cell_type": "code",
   "source": "BOC1_1_subcarrier_4ms = ;",
   "metadata": {
    "trusted": true
   },
   "outputs": [],
   "execution_count": null
  },
  {
   "id": "7ac15ab0-db7e-4dc6-a2ba-e770862dea59",
   "cell_type": "markdown",
   "source": "**Step 3:** `BOC1_1_subcarrier_4ms` is a vector of size 1 x 4092*8. Now we repeat this vector 50 times (this is the number of PRN sequences we have loaded).",
   "metadata": {}
  },
  {
   "id": "51359e04-cd82-4290-83e8-cb4dfa2e3219",
   "cell_type": "code",
   "source": "BOC1_1_subcarrier_4ms = ;",
   "metadata": {
    "trusted": true
   },
   "outputs": [],
   "execution_count": null
  },
  {
   "id": "18bae6a1-cc37-4acc-aab5-c087502138f3",
   "cell_type": "markdown",
   "source": "**Step 4:** Now we generate the final replica of all PRN sequences. Do an element by element multiplication of the already existing variable `Rep` by `BOC1_1_subcarrier_4ms` (use for this the operator .* ).",
   "metadata": {}
  },
  {
   "id": "45a2f72c-1ad0-4b0a-9687-640545137293",
   "cell_type": "code",
   "source": "Rep = ;",
   "metadata": {
    "trusted": true
   },
   "outputs": [],
   "execution_count": null
  },
  {
   "id": "b75a25f2-bbc3-4b50-bc4b-87c4226068d5",
   "cell_type": "code",
   "source": "\n%%% WHAT IS THIS FOR?\n\n% Number of samples in one half-chip:\nhalf_chip_samples = round(fs/(2*fc));\n\n% Number of code chips in one primary code period:\nnum_chips = round(T_primary_code*1e-3 * fc);\n\n% Build one °ßBOC(1,1)°® chip waveform:\nboc_chip = [ones(1, half_chip_samples), -ones(1, half_chip_samples)];\n\n% Tile it to cover the full primary code:\nboc = repmat(boc_chip, 1, num_chips);\nRep = Rep .* boc;",
   "metadata": {
    "ExecuteTime": {
     "end_time": "2025-06-04T15:11:03.495815Z",
     "start_time": "2025-06-04T15:11:03.487255Z"
    },
    "trusted": true
   },
   "outputs": [],
   "execution_count": null
  },
  {
   "id": "68840bdd-6a78-4089-a270-c5b13e78b291",
   "cell_type": "markdown",
   "source": "### ▶ **`Acquire Galileo E1-C`** *Run after tasks G1 and G2*",
   "metadata": {}
  },
  {
   "id": "527d48f1",
   "cell_type": "code",
   "source": "% Sanity checks – stop if you forgot to run the task cells\nassert(exist('fc','var') && exist('fs','var') && exist('T_primary_code','var') && exist('Tcoh','var') && exist('fi','var'),...\n       '❌ Run Task G1 first and set fc/fs/T_primary_code/Tcoh/fi');\n% boc is optional – only needed if you want to overlay it yourself\n\nload IQ_samples.mat\n\n%=========================================================================%\n% Load the PRN  code                                                      %\n%=========================================================================%\n\nload E1_codes.mat\nPRN = E1C;\n\n%=========================================================================%\n% Resample the replica                                                    %\n%=========================================================================%\n\nN_noncoh = 1; %Number of non-coherent accumulations\nTdwell = Tcoh *N_noncoh; %Total Dwell time [ms]\nNsample = Tcoh * fs; %Number of signal samples in Coherent Integration Period\n\nPRN = repmat(PRN,1,1);\n\n%=========================================================================%\n% Build up the replica                                                    %\n%=========================================================================%\n\nfor i=1:size(PRN,1)\n\n  Rep(i,:) = reshape(repmat(PRN(i,:),fs/fc,1),1,fs/fc*size(PRN,2));\n  \nend\n\n%=========================================================================%\n% Acquisition Process                                                     %\n%=========================================================================%\n\nDoppler_range = 6e3 ;\nDoppler_step = round(2/(3*Tdwell));\nDoppler_vec = Doppler_step:Doppler_step:Doppler_range;\nDoppler_vec = [-fliplr(Doppler_vec) 0 Doppler_vec];\n\n\n%=========================================================================%\n% Search over all possible PRN sequences                                  %\n%=========================================================================%\n\nfor code_select = 10:10\n    Rep_search = Rep(code_select,:);\n    \n    Nc = round(Tcoh/1e-3)*fs/1e3;\n    sspace = 0;\n    \n    for ii = 1:N_noncoh\n    \n        y =  data( (ii - 1) * Nc + (1:2*Nc) ).';   % use just 1 period of signal at the time\n    \n        % Compute the search space for a single coherent integration epoch\n        Tsspace = CodeAcquisition( y, [Rep_search zeros(1,size(Rep_search,2))], Nc, Doppler_vec, fs, fi);\n        sspace = sspace + Tsspace;  % Non-coherently accumulate the results\n    \n    end\n    \n    %=========================================================================%\n    % Decision Logic                                                          %\n    %=========================================================================%\n    \n    Pfa_global = 0.1;\n    Pfa_cell = 1-(1-Pfa_global).^(1/numel(sspace));\n    \n    Th = InverseChiSquarePfa(N_noncoh, Pfa_cell);\n    sigma_est = NoiseVarianceEstimator(y, fs, fc);\n    Th = sigma_est * Th;\n    \n    ##sspace_single_period = reshape(sspace,[size(sspace,1),2*fs/fc*size(PRN,2)/(Tcoh*1e3),2*Tcoh*1e3]);\n    ##sspace_single_period = squeeze(sum(sspace_single_period,3));\n    \n    \n    if (max(max(sspace)) > Th)\n    \n        [doppler_id, delay_id] = find(sspace == max(max(sspace)));\n        fprintf('PRN %i acquired, Doppler [Hz]: %f, Code Delay [samples]: %i\\n',code_select, Doppler_vec(doppler_id(1)), delay_id(1));\n        figure\n        surf( sspace, 'EdgeColor', 'none');\n        set( gca, 'FontSize', 16)\n        xlabel('Delay [samples]');\n        ylabel('Doppler Bin');\n        xlim([0 size(sspace,2)]);\n        ylim([1 length(Doppler_vec)])\n    \n    end\n    \n\nend",
   "metadata": {
    "trusted": true
   },
   "outputs": [],
   "execution_count": null
  }
 ]
}
